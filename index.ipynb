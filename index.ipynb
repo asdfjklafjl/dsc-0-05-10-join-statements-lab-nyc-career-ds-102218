{
 "cells": [
  {
   "cell_type": "markdown",
   "metadata": {},
   "source": [
    "# Join Statements"
   ]
  },
  {
   "cell_type": "markdown",
   "metadata": {},
   "source": [
    "## Introduction"
   ]
  },
  {
   "cell_type": "markdown",
   "metadata": {},
   "source": [
    "In this lab, you'll practice your knowledge on Join statements."
   ]
  },
  {
   "cell_type": "markdown",
   "metadata": {},
   "source": [
    "## Objectives"
   ]
  },
  {
   "cell_type": "markdown",
   "metadata": {},
   "source": [
    "You will be able to:\n",
    "- Write queries that make use of various types of Joins\n",
    "- Join tables using foreign keys"
   ]
  },
  {
   "cell_type": "markdown",
   "metadata": {},
   "source": [
    "## CRM Schema\n",
    "\n",
    "In almost all cases, rather then just working with a single table we will typically need data from multiple tables. \n",
    "Doing this requires the use of **joins ** using shared columns from the two tables. \n",
    "\n",
    "In this lab, we'll use the same Customer Relationship Management (CRM) database we used in our lecture before!\n",
    "<img src='Database-Schema.png' width=550>"
   ]
  },
  {
   "cell_type": "markdown",
   "metadata": {},
   "source": [
    "## Connecting to the Database\n",
    "Import the necessary packages and connect to the database **data.sqlite**."
   ]
  },
  {
   "cell_type": "code",
   "execution_count": 2,
   "metadata": {},
   "outputs": [],
   "source": [
    "#Your code here\n",
    "import sqlite3\n",
    "conn = sqlite3.connect('data.sqlite')\n",
    "cur = conn.cursor()"
   ]
  },
  {
   "cell_type": "markdown",
   "metadata": {},
   "source": [
    "## Display the names of all the employees in Boston."
   ]
  },
  {
   "cell_type": "code",
   "execution_count": 3,
   "metadata": {},
   "outputs": [
    {
     "data": {
      "text/plain": [
       "[('Julie', 'Firrelli'), ('Steve', 'Patterson')]"
      ]
     },
     "execution_count": 3,
     "metadata": {},
     "output_type": "execute_result"
    }
   ],
   "source": [
    "#Your code here\n",
    "cur.execute('''SELECT firstname, lastname FROM employees JOIN offices \n",
    "            USING (officeCode) WHERE city = 'Boston';''')\n",
    "cur.fetchall()"
   ]
  },
  {
   "cell_type": "markdown",
   "metadata": {},
   "source": [
    "## Do any offices have no employees?"
   ]
  },
  {
   "cell_type": "code",
   "execution_count": 4,
   "metadata": {},
   "outputs": [
    {
     "data": {
      "text/plain": [
       "[]"
      ]
     },
     "execution_count": 4,
     "metadata": {},
     "output_type": "execute_result"
    }
   ],
   "source": [
    "#Your code here\n",
    "cur.execute('''SELECT city, * FROM offices LEFT JOIN employees USING (officeCode) WHERE employeeNumber\n",
    "                IS NULL;''')\n",
    "cur.fetchall()\n"
   ]
  },
  {
   "cell_type": "markdown",
   "metadata": {},
   "source": [
    "## Write 3 Questions of your own and answer them"
   ]
  },
  {
   "cell_type": "code",
   "execution_count": null,
   "metadata": {},
   "outputs": [],
   "source": [
    "# Answers will vary "
   ]
  },
  {
   "cell_type": "code",
   "execution_count": null,
   "metadata": {},
   "outputs": [],
   "source": [
    "# Your code here"
   ]
  },
  {
   "cell_type": "code",
   "execution_count": null,
   "metadata": {},
   "outputs": [],
   "source": [
    "# Your code here"
   ]
  },
  {
   "cell_type": "code",
   "execution_count": 5,
   "metadata": {},
   "outputs": [],
   "source": [
    "# Your code here\n",
    "import pandas as pd"
   ]
  },
  {
   "cell_type": "markdown",
   "metadata": {},
   "source": [
    "## Level Up: Display the names of each product each employee has sold."
   ]
  },
  {
   "cell_type": "code",
   "execution_count": 10,
   "metadata": {},
   "outputs": [
    {
     "name": "stdout",
     "output_type": "stream",
     "text": [
      "2996\n"
     ]
    },
    {
     "data": {
      "text/html": [
       "<div>\n",
       "<style scoped>\n",
       "    .dataframe tbody tr th:only-of-type {\n",
       "        vertical-align: middle;\n",
       "    }\n",
       "\n",
       "    .dataframe tbody tr th {\n",
       "        vertical-align: top;\n",
       "    }\n",
       "\n",
       "    .dataframe thead th {\n",
       "        text-align: right;\n",
       "    }\n",
       "</style>\n",
       "<table border=\"1\" class=\"dataframe\">\n",
       "  <thead>\n",
       "    <tr style=\"text-align: right;\">\n",
       "      <th></th>\n",
       "      <th>0</th>\n",
       "      <th>1</th>\n",
       "    </tr>\n",
       "  </thead>\n",
       "  <tbody>\n",
       "    <tr>\n",
       "      <th>0</th>\n",
       "      <td>Leslie</td>\n",
       "      <td>1958 Setra Bus</td>\n",
       "    </tr>\n",
       "    <tr>\n",
       "      <th>1</th>\n",
       "      <td>Leslie</td>\n",
       "      <td>1940 Ford Pickup Truck</td>\n",
       "    </tr>\n",
       "    <tr>\n",
       "      <th>2</th>\n",
       "      <td>Leslie</td>\n",
       "      <td>1939 Cadillac Limousine</td>\n",
       "    </tr>\n",
       "    <tr>\n",
       "      <th>3</th>\n",
       "      <td>Leslie</td>\n",
       "      <td>1996 Peterbilt 379 Stake Bed with Outrigger</td>\n",
       "    </tr>\n",
       "    <tr>\n",
       "      <th>4</th>\n",
       "      <td>Leslie</td>\n",
       "      <td>1968 Ford Mustang</td>\n",
       "    </tr>\n",
       "  </tbody>\n",
       "</table>\n",
       "</div>"
      ],
      "text/plain": [
       "        0                                            1\n",
       "0  Leslie                               1958 Setra Bus\n",
       "1  Leslie                       1940 Ford Pickup Truck\n",
       "2  Leslie                      1939 Cadillac Limousine\n",
       "3  Leslie  1996 Peterbilt 379 Stake Bed with Outrigger\n",
       "4  Leslie                            1968 Ford Mustang"
      ]
     },
     "execution_count": 10,
     "metadata": {},
     "output_type": "execute_result"
    }
   ],
   "source": [
    "# Your code here\n",
    "cur.execute('''SELECT firstname, productName from employees e JOIN customers c \n",
    "ON c.salesRepEmployeeNumber = e.employeeNumber JOIN orders o USING (customerNumber)\n",
    "JOIN orderdetails od USING (orderNumber) JOIN products p USING (productCode);''') \n",
    "\n",
    "df = pd.DataFrame(cur.fetchall())\n",
    "print(len(df))\n",
    "df.head()"
   ]
  },
  {
   "cell_type": "markdown",
   "metadata": {},
   "source": [
    "## Level Up: Display the Number of Products each Employee Has sold"
   ]
  },
  {
   "cell_type": "code",
   "execution_count": 9,
   "metadata": {},
   "outputs": [
    {
     "data": {
      "text/html": [
       "<div>\n",
       "<style scoped>\n",
       "    .dataframe tbody tr th:only-of-type {\n",
       "        vertical-align: middle;\n",
       "    }\n",
       "\n",
       "    .dataframe tbody tr th {\n",
       "        vertical-align: top;\n",
       "    }\n",
       "\n",
       "    .dataframe thead th {\n",
       "        text-align: right;\n",
       "    }\n",
       "</style>\n",
       "<table border=\"1\" class=\"dataframe\">\n",
       "  <thead>\n",
       "    <tr style=\"text-align: right;\">\n",
       "      <th></th>\n",
       "      <th></th>\n",
       "    </tr>\n",
       "    <tr>\n",
       "      <th>0</th>\n",
       "      <th>1</th>\n",
       "    </tr>\n",
       "  </thead>\n",
       "  <tbody>\n",
       "    <tr>\n",
       "      <th rowspan=\"30\" valign=\"top\">Andy</th>\n",
       "      <th>18th Century Vintage Horse Carriage</th>\n",
       "    </tr>\n",
       "    <tr>\n",
       "      <th>1900s Vintage Bi-Plane</th>\n",
       "    </tr>\n",
       "    <tr>\n",
       "      <th>1900s Vintage Tri-Plane</th>\n",
       "    </tr>\n",
       "    <tr>\n",
       "      <th>1911 Ford Town Car</th>\n",
       "    </tr>\n",
       "    <tr>\n",
       "      <th>1913 Ford Model T Speedster</th>\n",
       "    </tr>\n",
       "    <tr>\n",
       "      <th>1917 Grand Touring Sedan</th>\n",
       "    </tr>\n",
       "    <tr>\n",
       "      <th>1917 Maxwell Touring Car</th>\n",
       "    </tr>\n",
       "    <tr>\n",
       "      <th>1926 Ford Fire Engine</th>\n",
       "    </tr>\n",
       "    <tr>\n",
       "      <th>1928 British Royal Navy Airplane</th>\n",
       "    </tr>\n",
       "    <tr>\n",
       "      <th>1928 Ford Phaeton Deluxe</th>\n",
       "    </tr>\n",
       "    <tr>\n",
       "      <th>1928 Mercedes-Benz SSK</th>\n",
       "    </tr>\n",
       "    <tr>\n",
       "      <th>1930 Buick Marquette Phaeton</th>\n",
       "    </tr>\n",
       "    <tr>\n",
       "      <th>1932 Alfa Romeo 8C2300 Spider Sport</th>\n",
       "    </tr>\n",
       "    <tr>\n",
       "      <th>1932 Model A Ford J-Coupe</th>\n",
       "    </tr>\n",
       "    <tr>\n",
       "      <th>1934 Ford V8 Coupe</th>\n",
       "    </tr>\n",
       "    <tr>\n",
       "      <th>1936 Chrysler Airflow</th>\n",
       "    </tr>\n",
       "    <tr>\n",
       "      <th>1936 Harley Davidson El Knucklehead</th>\n",
       "    </tr>\n",
       "    <tr>\n",
       "      <th>1936 Mercedes Benz 500k Roadster</th>\n",
       "    </tr>\n",
       "    <tr>\n",
       "      <th>1936 Mercedes-Benz 500K Special Roadster</th>\n",
       "    </tr>\n",
       "    <tr>\n",
       "      <th>1937 Horch 930V Limousine</th>\n",
       "    </tr>\n",
       "    <tr>\n",
       "      <th>1937 Lincoln Berline</th>\n",
       "    </tr>\n",
       "    <tr>\n",
       "      <th>1938 Cadillac V-16 Presidential Limousine</th>\n",
       "    </tr>\n",
       "    <tr>\n",
       "      <th>1939 Cadillac Limousine</th>\n",
       "    </tr>\n",
       "    <tr>\n",
       "      <th>1939 Chevrolet Deluxe Coupe</th>\n",
       "    </tr>\n",
       "    <tr>\n",
       "      <th>1940 Ford Pickup Truck</th>\n",
       "    </tr>\n",
       "    <tr>\n",
       "      <th>1940s Ford truck</th>\n",
       "    </tr>\n",
       "    <tr>\n",
       "      <th>1941 Chevrolet Special Deluxe Cabriolet</th>\n",
       "    </tr>\n",
       "    <tr>\n",
       "      <th>1948 Porsche 356-A Roadster</th>\n",
       "    </tr>\n",
       "    <tr>\n",
       "      <th>1948 Porsche Type 356 Roadster</th>\n",
       "    </tr>\n",
       "    <tr>\n",
       "      <th>1949 Jaguar XK 120</th>\n",
       "    </tr>\n",
       "    <tr>\n",
       "      <th>...</th>\n",
       "      <th>...</th>\n",
       "    </tr>\n",
       "    <tr>\n",
       "      <th rowspan=\"30\" valign=\"top\">Steve</th>\n",
       "      <th>1992 Porsche Cayenne Turbo Silver</th>\n",
       "    </tr>\n",
       "    <tr>\n",
       "      <th>1993 Mazda RX-7</th>\n",
       "    </tr>\n",
       "    <tr>\n",
       "      <th>1995 Honda Civic</th>\n",
       "    </tr>\n",
       "    <tr>\n",
       "      <th>1996 Moto Guzzi 1100i</th>\n",
       "    </tr>\n",
       "    <tr>\n",
       "      <th>1996 Peterbilt 379 Stake Bed with Outrigger</th>\n",
       "    </tr>\n",
       "    <tr>\n",
       "      <th>1997 BMW F650 ST</th>\n",
       "    </tr>\n",
       "    <tr>\n",
       "      <th>1997 BMW R 1100 S</th>\n",
       "    </tr>\n",
       "    <tr>\n",
       "      <th>1998 Chrysler Plymouth Prowler</th>\n",
       "    </tr>\n",
       "    <tr>\n",
       "      <th>1999 Indy 500 Monte Carlo SS</th>\n",
       "    </tr>\n",
       "    <tr>\n",
       "      <th>1999 Yamaha Speed Boat</th>\n",
       "    </tr>\n",
       "    <tr>\n",
       "      <th>2001 Ferrari Enzo</th>\n",
       "    </tr>\n",
       "    <tr>\n",
       "      <th>2002 Chevy Corvette</th>\n",
       "    </tr>\n",
       "    <tr>\n",
       "      <th>2002 Suzuki XREO</th>\n",
       "    </tr>\n",
       "    <tr>\n",
       "      <th>2002 Yamaha YZR M1</th>\n",
       "    </tr>\n",
       "    <tr>\n",
       "      <th>2003 Harley-Davidson Eagle Drag Bike</th>\n",
       "    </tr>\n",
       "    <tr>\n",
       "      <th>ATA: B757-300</th>\n",
       "    </tr>\n",
       "    <tr>\n",
       "      <th>America West Airlines B757-200</th>\n",
       "    </tr>\n",
       "    <tr>\n",
       "      <th>American Airlines: B767-300</th>\n",
       "    </tr>\n",
       "    <tr>\n",
       "      <th>American Airlines: MD-11S</th>\n",
       "    </tr>\n",
       "    <tr>\n",
       "      <th>Boeing X-32A JSF</th>\n",
       "    </tr>\n",
       "    <tr>\n",
       "      <th>Collectable Wooden Train</th>\n",
       "    </tr>\n",
       "    <tr>\n",
       "      <th>Diamond T620 Semi-Skirted Tanker</th>\n",
       "    </tr>\n",
       "    <tr>\n",
       "      <th>HMS Bounty</th>\n",
       "    </tr>\n",
       "    <tr>\n",
       "      <th>P-51-D Mustang</th>\n",
       "    </tr>\n",
       "    <tr>\n",
       "      <th>Pont Yacht</th>\n",
       "    </tr>\n",
       "    <tr>\n",
       "      <th>The Mayflower</th>\n",
       "    </tr>\n",
       "    <tr>\n",
       "      <th>The Queen Mary</th>\n",
       "    </tr>\n",
       "    <tr>\n",
       "      <th>The Schooner Bluenose</th>\n",
       "    </tr>\n",
       "    <tr>\n",
       "      <th>The Titanic</th>\n",
       "    </tr>\n",
       "    <tr>\n",
       "      <th>The USS Constitution Ship</th>\n",
       "    </tr>\n",
       "  </tbody>\n",
       "</table>\n",
       "<p>1297 rows × 0 columns</p>\n",
       "</div>"
      ],
      "text/plain": [
       "Empty DataFrame\n",
       "Columns: []\n",
       "Index: [(Andy, 18th Century Vintage Horse Carriage), (Andy, 1900s Vintage Bi-Plane), (Andy, 1900s Vintage Tri-Plane), (Andy, 1911 Ford Town Car), (Andy, 1913 Ford Model T Speedster), (Andy, 1917 Grand Touring Sedan), (Andy, 1917 Maxwell Touring Car), (Andy, 1926 Ford Fire Engine), (Andy, 1928 British Royal Navy Airplane), (Andy, 1928 Ford Phaeton Deluxe), (Andy, 1928 Mercedes-Benz SSK), (Andy, 1930 Buick Marquette Phaeton), (Andy, 1932 Alfa Romeo 8C2300 Spider Sport), (Andy, 1932 Model A Ford J-Coupe), (Andy, 1934 Ford V8 Coupe), (Andy, 1936 Chrysler Airflow), (Andy, 1936 Harley Davidson El Knucklehead), (Andy, 1936 Mercedes Benz 500k Roadster), (Andy, 1936 Mercedes-Benz 500K Special Roadster), (Andy, 1937 Horch 930V Limousine), (Andy, 1937 Lincoln Berline), (Andy, 1938 Cadillac V-16 Presidential Limousine), (Andy, 1939 Cadillac Limousine), (Andy, 1939 Chevrolet Deluxe Coupe), (Andy, 1940 Ford Pickup Truck), (Andy, 1940s Ford truck), (Andy, 1941 Chevrolet Special Deluxe Cabriolet), (Andy, 1948 Porsche 356-A Roadster), (Andy, 1948 Porsche Type 356 Roadster), (Andy, 1949 Jaguar XK 120), (Andy, 1950's Chicago Surface Lines Streetcar), (Andy, 1952 Alpine Renault 1300), (Andy, 1952 Citroen-15CV), (Andy, 1956 Porsche 356A Coupe), (Andy, 1957 Corvette Convertible), (Andy, 1957 Ford Thunderbird), (Andy, 1957 Vespa GS150), (Andy, 1958 Setra Bus), (Andy, 1960 BSA Gold Star DBD34), (Andy, 1961 Chevrolet Impala), (Andy, 1962 LanciaA Delta 16V), (Andy, 1964 Mercedes Tour Bus), (Andy, 1965 Aston Martin DB5), (Andy, 1966 Shelby Cobra 427 S/C), (Andy, 1968 Ford Mustang), (Andy, 1969 Chevrolet Camaro Z28), (Andy, 1969 Dodge Super Bee), (Andy, 1969 Harley Davidson Ultimate Chopper), (Andy, 1970 Chevy Chevelle SS 454), (Andy, 1970 Dodge Coronet), (Andy, 1970 Plymouth Hemi Cuda), (Andy, 1970 Triumph Spitfire), (Andy, 1971 Alpine Renault 1600s), (Andy, 1974 Ducati 350 Mk3 Desmo), (Andy, 1976 Ford Gran Torino), (Andy, 1980’s GM Manhattan Express), (Andy, 1982 Camaro Z28), (Andy, 1982 Ducati 900 Monster), (Andy, 1982 Ducati 996 R), (Andy, 1982 Lamborghini Diablo), (Andy, 1992 Ferrari 360 Spider red), (Andy, 1992 Porsche Cayenne Turbo Silver), (Andy, 1993 Mazda RX-7), (Andy, 1995 Honda Civic), (Andy, 1996 Moto Guzzi 1100i), (Andy, 1996 Peterbilt 379 Stake Bed with Outrigger), (Andy, 1997 BMW F650 ST), (Andy, 1997 BMW R 1100 S), (Andy, 1999 Indy 500 Monte Carlo SS), (Andy, 2002 Chevy Corvette), (Andy, 2002 Suzuki XREO), (Andy, 2002 Yamaha YZR M1), (Andy, 2003 Harley-Davidson Eagle Drag Bike), (Andy, ATA: B757-300), (Andy, America West Airlines B757-200), (Andy, American Airlines: B767-300), (Andy, American Airlines: MD-11S), (Andy, Boeing X-32A JSF), (Andy, Corsair F4U ( Bird Cage)), (Andy, F/A 18 Hornet 1/72), (Andy, HMS Bounty), (Andy, P-51-D Mustang), (Barry, 18th Century Vintage Horse Carriage), (Barry, 18th century schooner), (Barry, 1900s Vintage Bi-Plane), (Barry, 1900s Vintage Tri-Plane), (Barry, 1903 Ford Model A), (Barry, 1904 Buick Runabout), (Barry, 1912 Ford Model T Delivery Wagon), (Barry, 1913 Ford Model T Speedster), (Barry, 1917 Maxwell Touring Car), (Barry, 1926 Ford Fire Engine), (Barry, 1928 British Royal Navy Airplane), (Barry, 1928 Ford Phaeton Deluxe), (Barry, 1928 Mercedes-Benz SSK), (Barry, 1930 Buick Marquette Phaeton), (Barry, 1932 Model A Ford J-Coupe), (Barry, 1934 Ford V8 Coupe), (Barry, 1936 Chrysler Airflow), (Barry, 1936 Harley Davidson El Knucklehead), ...]\n",
       "\n",
       "[1297 rows x 0 columns]"
      ]
     },
     "execution_count": 9,
     "metadata": {},
     "output_type": "execute_result"
    }
   ],
   "source": [
    "df.groupby([0,1]).count()"
   ]
  },
  {
   "cell_type": "code",
   "execution_count": 40,
   "metadata": {},
   "outputs": [],
   "source": [
    "#Your code here\n",
    "cur.execute('''SELECT firstname, quantityOrdered from employees e JOIN customers c\n",
    "ON e.employeeNumber = c.salesRepEmployeeNumber JOIN orders o USING (customerNumber)\n",
    "JOIN orderdetails USING (orderNumber);''')\n",
    "df = pd.DataFrame(cur.fetchall())"
   ]
  },
  {
   "cell_type": "markdown",
   "metadata": {},
   "source": [
    "## Summary"
   ]
  },
  {
   "cell_type": "markdown",
   "metadata": {},
   "source": [
    "Congrats! You now know how to use Join statements, along with leveraging your foreign keys knowledge!"
   ]
  }
 ],
 "metadata": {
  "kernelspec": {
   "display_name": "Python 3",
   "language": "python",
   "name": "python3"
  },
  "language_info": {
   "codemirror_mode": {
    "name": "ipython",
    "version": 3
   },
   "file_extension": ".py",
   "mimetype": "text/x-python",
   "name": "python",
   "nbconvert_exporter": "python",
   "pygments_lexer": "ipython3",
   "version": "3.6.6"
  }
 },
 "nbformat": 4,
 "nbformat_minor": 2
}
